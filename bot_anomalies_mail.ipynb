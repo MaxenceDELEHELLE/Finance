{
 "cells": [
  {
   "cell_type": "code",
   "execution_count": 6,
   "id": "497c8689-4a9c-46d5-8cd5-0c6bf7871746",
   "metadata": {},
   "outputs": [
    {
     "name": "stderr",
     "output_type": "stream",
     "text": [
      "[*********************100%***********************]  1 of 1 completed"
     ]
    },
    {
     "name": "stdout",
     "output_type": "stream",
     "text": [
      "Téléchargement des données...\n",
      "Détection des anomalies...\n",
      "Anomalies détectées ! Envoi de l'email...\n"
     ]
    },
    {
     "name": "stderr",
     "output_type": "stream",
     "text": [
      "\n"
     ]
    },
    {
     "ename": "SMTPAuthenticationError",
     "evalue": "(535, b'5.7.8 Username and Password not accepted. For more information, go to\\n5.7.8  https://support.google.com/mail/?p=BadCredentials 5b1f17b1804b1-43d90000a09sm99758915e9.35 - gsmtp')",
     "output_type": "error",
     "traceback": [
      "\u001b[0;31m---------------------------------------------------------------------------\u001b[0m",
      "\u001b[0;31mSMTPAuthenticationError\u001b[0m                   Traceback (most recent call last)",
      "Cell \u001b[0;32mIn[6], line 47\u001b[0m\n\u001b[1;32m     45\u001b[0m \u001b[38;5;28;01mwith\u001b[39;00m smtplib\u001b[38;5;241m.\u001b[39mSMTP(\u001b[38;5;124m'\u001b[39m\u001b[38;5;124msmtp.gmail.com\u001b[39m\u001b[38;5;124m'\u001b[39m, \u001b[38;5;241m587\u001b[39m) \u001b[38;5;28;01mas\u001b[39;00m server:\n\u001b[1;32m     46\u001b[0m     server\u001b[38;5;241m.\u001b[39mstarttls()\n\u001b[0;32m---> 47\u001b[0m     \u001b[43mserver\u001b[49m\u001b[38;5;241;43m.\u001b[39;49m\u001b[43mlogin\u001b[49m\u001b[43m(\u001b[49m\u001b[43mEMAIL_SENDER\u001b[49m\u001b[43m,\u001b[49m\u001b[43m \u001b[49m\u001b[43mEMAIL_PASSWORD\u001b[49m\u001b[43m)\u001b[49m\n\u001b[1;32m     48\u001b[0m     server\u001b[38;5;241m.\u001b[39msendmail(EMAIL_SENDER, EMAIL_RECEIVER, msg\u001b[38;5;241m.\u001b[39mas_string())\n\u001b[1;32m     49\u001b[0m \u001b[38;5;28mprint\u001b[39m(\u001b[38;5;124m\"\u001b[39m\u001b[38;5;124mEmail envoyé !\u001b[39m\u001b[38;5;124m\"\u001b[39m)\n",
      "File \u001b[0;32m/usr/lib/python3.12/smtplib.py:750\u001b[0m, in \u001b[0;36mSMTP.login\u001b[0;34m(self, user, password, initial_response_ok)\u001b[0m\n\u001b[1;32m    747\u001b[0m         last_exception \u001b[38;5;241m=\u001b[39m e\n\u001b[1;32m    749\u001b[0m \u001b[38;5;66;03m# We could not login successfully.  Return result of last attempt.\u001b[39;00m\n\u001b[0;32m--> 750\u001b[0m \u001b[38;5;28;01mraise\u001b[39;00m last_exception\n",
      "File \u001b[0;32m/usr/lib/python3.12/smtplib.py:739\u001b[0m, in \u001b[0;36mSMTP.login\u001b[0;34m(self, user, password, initial_response_ok)\u001b[0m\n\u001b[1;32m    737\u001b[0m method_name \u001b[38;5;241m=\u001b[39m \u001b[38;5;124m'\u001b[39m\u001b[38;5;124mauth_\u001b[39m\u001b[38;5;124m'\u001b[39m \u001b[38;5;241m+\u001b[39m authmethod\u001b[38;5;241m.\u001b[39mlower()\u001b[38;5;241m.\u001b[39mreplace(\u001b[38;5;124m'\u001b[39m\u001b[38;5;124m-\u001b[39m\u001b[38;5;124m'\u001b[39m, \u001b[38;5;124m'\u001b[39m\u001b[38;5;124m_\u001b[39m\u001b[38;5;124m'\u001b[39m)\n\u001b[1;32m    738\u001b[0m \u001b[38;5;28;01mtry\u001b[39;00m:\n\u001b[0;32m--> 739\u001b[0m     (code, resp) \u001b[38;5;241m=\u001b[39m \u001b[38;5;28;43mself\u001b[39;49m\u001b[38;5;241;43m.\u001b[39;49m\u001b[43mauth\u001b[49m\u001b[43m(\u001b[49m\n\u001b[1;32m    740\u001b[0m \u001b[43m        \u001b[49m\u001b[43mauthmethod\u001b[49m\u001b[43m,\u001b[49m\u001b[43m \u001b[49m\u001b[38;5;28;43mgetattr\u001b[39;49m\u001b[43m(\u001b[49m\u001b[38;5;28;43mself\u001b[39;49m\u001b[43m,\u001b[49m\u001b[43m \u001b[49m\u001b[43mmethod_name\u001b[49m\u001b[43m)\u001b[49m\u001b[43m,\u001b[49m\n\u001b[1;32m    741\u001b[0m \u001b[43m        \u001b[49m\u001b[43minitial_response_ok\u001b[49m\u001b[38;5;241;43m=\u001b[39;49m\u001b[43minitial_response_ok\u001b[49m\u001b[43m)\u001b[49m\n\u001b[1;32m    742\u001b[0m     \u001b[38;5;66;03m# 235 == 'Authentication successful'\u001b[39;00m\n\u001b[1;32m    743\u001b[0m     \u001b[38;5;66;03m# 503 == 'Error: already authenticated'\u001b[39;00m\n\u001b[1;32m    744\u001b[0m     \u001b[38;5;28;01mif\u001b[39;00m code \u001b[38;5;129;01min\u001b[39;00m (\u001b[38;5;241m235\u001b[39m, \u001b[38;5;241m503\u001b[39m):\n",
      "File \u001b[0;32m/usr/lib/python3.12/smtplib.py:662\u001b[0m, in \u001b[0;36mSMTP.auth\u001b[0;34m(self, mechanism, authobject, initial_response_ok)\u001b[0m\n\u001b[1;32m    660\u001b[0m \u001b[38;5;28;01mif\u001b[39;00m code \u001b[38;5;129;01min\u001b[39;00m (\u001b[38;5;241m235\u001b[39m, \u001b[38;5;241m503\u001b[39m):\n\u001b[1;32m    661\u001b[0m     \u001b[38;5;28;01mreturn\u001b[39;00m (code, resp)\n\u001b[0;32m--> 662\u001b[0m \u001b[38;5;28;01mraise\u001b[39;00m SMTPAuthenticationError(code, resp)\n",
      "\u001b[0;31mSMTPAuthenticationError\u001b[0m: (535, b'5.7.8 Username and Password not accepted. For more information, go to\\n5.7.8  https://support.google.com/mail/?p=BadCredentials 5b1f17b1804b1-43d90000a09sm99758915e9.35 - gsmtp')"
     ]
    }
   ],
   "source": [
    "# Ce bot envoie une alerte mail via le processus SMTP. K=Le bot ci dessous n'est\n",
    "# configuré que pour des adresses mail receveur Gmail. Pour toute autre adresse mail\n",
    "# se referer au protocole SMTP de l'adresse mail specifique\n",
    "\n",
    "\n",
    "import numpy as np\n",
    "import pandas as pd\n",
    "import yfinance as yf\n",
    "import smtplib\n",
    "import matplotlib.pyplot as plt\n",
    "from sklearn.ensemble import IsolationForest\n",
    "from email.mime.text import MIMEText\n",
    "from email.mime.multipart import MIMEMultipart\n",
    "\n",
    "STOCK_SYMBOL = \"AAPL\"\n",
    "START_DATE = \"2023-01-01\"\n",
    "END_DATE = \"2024-01-01\"\n",
    "THRESHOLD = -0.05  # Seuil de détection des anomalies (-5%)\n",
    "EMAIL_SENDER = \"maxence.delehelle@edu.esiee.fr\"\n",
    "EMAIL_RECEIVER = \"votre_adresse_mail@gmail.com\"\n",
    "EMAIL_PASSWORD = \"votre_mdp_de_mail\" # Remarque : l'authentification à deux étapes doit être\n",
    "                                     #activée pour que Gmail autorise l'utilisation de STMP\n",
    "\n",
    "\n",
    "print(\"Téléchargement des données...\")\n",
    "data = yf.download(STOCK_SYMBOL, start=START_DATE, end=END_DATE)\n",
    "data['Returns'] = data['Close'].pct_change()\n",
    "data = data.dropna()\n",
    "\n",
    "print(\"Détection des anomalies...\")\n",
    "model = IsolationForest(n_estimators=100, contamination=0.02, random_state=42)\n",
    "data['Anomaly'] = model.fit_predict(data[['Returns']])\n",
    "data['Anomaly'] = data['Anomaly'].apply(lambda x: 1 if x == -1 else 0)\n",
    "\n",
    "\n",
    "anomalies = data[data['Anomaly'] == 1]\n",
    "anomalies = anomalies[anomalies['Returns'] < THRESHOLD]\n",
    "\n",
    "\n",
    "if not anomalies.empty:\n",
    "    print(\"Anomalies détectées ! Envoi de l'email...\")\n",
    "    msg = MIMEMultipart()\n",
    "    msg['From'] = EMAIL_SENDER\n",
    "    msg['To'] = EMAIL_RECEIVER\n",
    "    msg['Subject'] = f\"ALERTE : Anomalies détectées sur {STOCK_SYMBOL}\"\n",
    "    \n",
    "    body = f\"Les anomalies suivantes ont été détectées :\\n\\n{anomalies[['Returns']].to_string()}\"\n",
    "    msg.attach(MIMEText(body, 'plain'))\n",
    "    \n",
    "    with smtplib.SMTP('smtp.gmail.com', 587) as server:\n",
    "        server.starttls()\n",
    "        server.login(EMAIL_SENDER, EMAIL_PASSWORD)\n",
    "        server.sendmail(EMAIL_SENDER, EMAIL_RECEIVER, msg.as_string())\n",
    "    print(\"Email envoyé !\")\n",
    "\n",
    "\n",
    "plt.figure(figsize=(12,6))\n",
    "plt.plot(data.index, data['Close'], label='Prix de clôture', color='blue')\n",
    "plt.scatter(anomalies.index, anomalies['Close'], color='red', label='Anomalies', marker='o')\n",
    "plt.title(f\"Anomalies sur {STOCK_SYMBOL}\")\n",
    "plt.legend()\n",
    "plt.show()\n",
    "\n",
    "print(\"Analyse terminée.\")\n"
   ]
  },
  {
   "cell_type": "code",
   "execution_count": null,
   "id": "4cedb2f6-d9d7-4e4c-9f48-ad908add1387",
   "metadata": {},
   "outputs": [],
   "source": []
  }
 ],
 "metadata": {
  "kernelspec": {
   "display_name": "Python 3 (ipykernel)",
   "language": "python",
   "name": "python3"
  },
  "language_info": {
   "codemirror_mode": {
    "name": "ipython",
    "version": 3
   },
   "file_extension": ".py",
   "mimetype": "text/x-python",
   "name": "python",
   "nbconvert_exporter": "python",
   "pygments_lexer": "ipython3",
   "version": "3.12.3"
  }
 },
 "nbformat": 4,
 "nbformat_minor": 5
}
